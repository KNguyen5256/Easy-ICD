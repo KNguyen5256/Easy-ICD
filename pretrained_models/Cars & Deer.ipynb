{
 "cells": [
  {
   "cell_type": "markdown",
   "metadata": {},
   "source": [
    "# Reproduce results on Cars & Deer\n",
    "\n",
    "This notebook reproduces the results obtained on Cars & Deer for:\n",
    "* Supervised model training\n",
    "* Unsupervised model training\n",
    "\n",
    "**Note: performing model training and inference on a GPU will lead to significant speedups.**\n",
    "\n",
    "## Prerequisites\n",
    "\n",
    "Before running the contents of this notebook, you need to have the Cars & Deer dataset images stored locally. To get the images, extract the contents of the file `./datasets/car_deer_noisy.tar.gz` in the Easy-ICD repository. Then, replace the value of `img_dir` below with the location you stored the dataset in.\n",
    "\n",
    "## Required Imports"
   ]
  },
  {
   "cell_type": "code",
   "execution_count": 293,
   "metadata": {},
   "outputs": [],
   "source": [
    "import torch\n",
    "import torch.nn as nn\n",
    "import numpy as np\n",
    "import os\n",
    "import json\n",
    "import matplotlib.pyplot as plt\n",
    "\n",
    "from torch.utils.data import Dataset, DataLoader, RandomSampler\n",
    "from torchvision import transforms, utils\n",
    "from torchvision.io import read_image\n",
    "from sklearn.manifold import TSNE\n",
    "\n",
    "from easy_icd.utils.datasets import create_dataset\n",
    "from easy_icd.training.losses import SimCLRLoss\n",
    "from easy_icd.utils.augmentation import RandomImageAugmenter, augment_minibatch\n",
    "from easy_icd.utils.models import ResNet, LinearClassifier\n",
    "from easy_icd.training.train_models import train_model\n",
    "from easy_icd.outlier_detection.detect_outliers import analyze_data\n",
    "from easy_icd.outlier_removal.remove_outliers import remove_outliers\n",
    "\n",
    "from PIL import Image\n",
    "\n",
    "from typing import Optional, List, Tuple, Dict, Callable"
   ]
  },
  {
   "cell_type": "code",
   "execution_count": 220,
   "metadata": {},
   "outputs": [],
   "source": [
    "import gc\n",
    "\n",
    "gc.collect()\n",
    "\n",
    "torch.cuda.empty_cache()"
   ]
  },
  {
   "cell_type": "markdown",
   "metadata": {},
   "source": [
    "## Create dataset"
   ]
  },
  {
   "cell_type": "code",
   "execution_count": 160,
   "metadata": {},
   "outputs": [],
   "source": [
    "img_dir = './images/car_deer_noisy'\n",
    "\n",
    "class_names = ['car', 'deer']\n",
    "\n",
    "probs = 0.2 * torch.ones(8)\n",
    "augmenter = RandomImageAugmenter((32, 32), probs, 2)\n",
    "train_ds, test_ds = create_dataset(img_dir, class_names, False, True, 0.9)\n",
    "train_dataloader = DataLoader(train_ds, batch_size=512, shuffle=True)\n",
    "test_dataloader = DataLoader(test_ds, batch_size=200, shuffle=True)"
   ]
  },
  {
   "cell_type": "markdown",
   "metadata": {},
   "source": [
    "## Create model"
   ]
  },
  {
   "cell_type": "code",
   "execution_count": 162,
   "metadata": {},
   "outputs": [],
   "source": [
    "model = ResNet(num_blocks=[2, 2, 2, 2], out_channels=[64 * (2 ** i) for i in range(4)])"
   ]
  },
  {
   "cell_type": "markdown",
   "metadata": {},
   "source": [
    "## Train model"
   ]
  },
  {
   "cell_type": "code",
   "execution_count": null,
   "metadata": {
    "scrolled": true
   },
   "outputs": [],
   "source": [
    "train_model(model, train_dataloader, test_dataloader, './car_deer_noisy/', augmenter,\n",
    "            'simclr', 100, None, 2, 0.1, lr=2e-1, min_lr=5e-3, num_warmup_epochs=50, losses_name='',\n",
    "            gpu=True, epoch_offset=0, dataset_means_and_stds=[[0.4651, 0.4632, 0.4244], [0.2351, 0.2314, 0.2469]])"
   ]
  },
  {
   "cell_type": "markdown",
   "metadata": {},
   "source": [
    "## View learned representations"
   ]
  },
  {
   "cell_type": "code",
   "execution_count": 167,
   "metadata": {},
   "outputs": [],
   "source": [
    "from torchvision.transforms import Normalize\n",
    "\n",
    "train_ds = create_dataset('./images/cifar_10_alt', ['car', 'deer', 'ship'], False, True)\n",
    "train_dataloader = DataLoader(train_ds, batch_size=500, shuffle=False)\n",
    "\n",
    "model.to('cuda')\n",
    "model.use_projection_head(True)\n",
    "model.eval()\n",
    "\n",
    "normalizer = Normalize([0.4651, 0.4632, 0.4244], [0.2351, 0.2314, 0.2469])\n",
    "\n",
    "feats_list = []\n",
    "labels_list = []\n",
    "\n",
    "num_batches = 20\n",
    "\n",
    "for idx, (images, labels) in enumerate(train_dataloader):\n",
    "    images = normalizer(images).to('cuda')\n",
    "    labels_list.append(labels.detach().numpy())\n",
    "    \n",
    "    features = model(images).cpu().detach()\n",
    "    features = torch.div(features, torch.linalg.norm(features, dim=1, keepdim=True))\n",
    "    feats_list.append(features)\n",
    "    \n",
    "    if idx == (num_batches - 1):\n",
    "        break\n",
    "    \n",
    "feats_list = np.concatenate(feats_list, 0)\n",
    "labels = np.concatenate(labels_list, 0)"
   ]
  },
  {
   "cell_type": "code",
   "execution_count": 168,
   "metadata": {},
   "outputs": [],
   "source": [
    "small_feats = TSNE(n_components=2, perplexity=50).fit_transform(feats_list)"
   ]
  },
  {
   "cell_type": "code",
   "execution_count": null,
   "metadata": {
    "scrolled": true
   },
   "outputs": [],
   "source": [
    "fig, ax = plt.subplots(1, 1, figsize=(20, 20))\n",
    "\n",
    "class_names = ['car', 'deer', 'ship']\n",
    "\n",
    "for i in range(3):\n",
    "    sel_inds = np.argwhere(labels == i).flatten()\n",
    "    ax.scatter(small_feats[:, 0][sel_inds], small_feats[:, 1][sel_inds], label=class_names[i], s=100)\n",
    "    \n",
    "ax.legend(fontsize=36, ncol=1, loc=1)\n",
    "ax.set_xticks([])\n",
    "ax.set_yticks([])"
   ]
  },
  {
   "cell_type": "markdown",
   "metadata": {},
   "source": [
    "## Train supervised model"
   ]
  },
  {
   "cell_type": "code",
   "execution_count": null,
   "metadata": {},
   "outputs": [],
   "source": [
    "img_dir = './images/car_deer_noisy'\n",
    "\n",
    "class_names = ['car', 'deer']\n",
    "\n",
    "probs = 0.2 * torch.ones(8)\n",
    "augmenter = RandomImageAugmenter((32, 32), probs, 2)\n",
    "train_ds, test_ds = create_dataset(img_dir, class_names, False, True, 0.9)\n",
    "train_dataloader = DataLoader(train_ds, batch_size=128, shuffle=True)\n",
    "test_dataloader = DataLoader(test_ds, batch_size=200, shuffle=True)"
   ]
  },
  {
   "cell_type": "code",
   "execution_count": null,
   "metadata": {},
   "outputs": [],
   "source": [
    "model = ResNet(num_layers=4, num_blocks=[2, 2, 2, 2], out_channels=[64 * (2 ** i) for i in range(4)], linear_sizes=[256, 64, 2], supervised=True)"
   ]
  },
  {
   "cell_type": "code",
   "execution_count": null,
   "metadata": {},
   "outputs": [],
   "source": [
    "model.train()\n",
    "\n",
    "train_model(model, train_dataloader, test_dataloader, './models/supervised/car_deer_noisy_raw/', augmenter, 'ce', 150, None, 2, 0.1, lr=1e-1, min_lr=5e-3, num_warmup_epochs=30,\n",
    "                      losses_name='', gpu=True, epoch_offset=0, dataset_means_and_stds=[[0.4651, 0.4632, 0.4244], [0.2351, 0.2314, 0.2469]])"
   ]
  },
  {
   "cell_type": "markdown",
   "metadata": {},
   "source": [
    "## View learned representations"
   ]
  },
  {
   "cell_type": "code",
   "execution_count": null,
   "metadata": {},
   "outputs": [],
   "source": [
    "model = ResNet(num_layers=4, num_blocks=[2, 2, 2, 2], out_channels=[64 * (2 ** i) for i in range(4)], linear_sizes=[256, 64, 2], supervised=True)\n",
    "\n",
    "old_dict = torch.load('./models/supervised/car_deer_noisy_raw/model_state_epoch_150.pt')\n",
    "\n",
    "model.load_state_dict(old_dict, strict=False)"
   ]
  },
  {
   "cell_type": "code",
   "execution_count": null,
   "metadata": {},
   "outputs": [],
   "source": [
    "from torchvision.transforms import Normalize\n",
    "\n",
    "train_ds = create_dataset('./images/cifar_10_alt', ['car', 'deer', 'ship'], False, True)\n",
    "train_dataloader = DataLoader(train_ds, batch_size=500, shuffle=True)\n",
    "\n",
    "model.to('cuda')\n",
    "model.use_projection_head(False)\n",
    "model.eval()\n",
    "\n",
    "normalizer = Normalize([0.4651, 0.4632, 0.4244], [0.2351, 0.2314, 0.2469])\n",
    "\n",
    "feats_list = []\n",
    "labels_list = []\n",
    "\n",
    "for i in range(10):\n",
    "    images, labels = next(iter(train_dataloader))\n",
    "\n",
    "    images = normalizer(images).to('cuda')\n",
    "    labels_list.append(labels.detach().numpy())\n",
    "    \n",
    "    features = model(images).cpu().detach()\n",
    "    features = torch.div(features, torch.linalg.norm(features, dim=1, keepdim=True))\n",
    "    feats_list.append(features)\n",
    "    \n",
    "feats_list = np.concatenate(feats_list, 0)\n",
    "labels = np.concatenate(labels_list, 0)"
   ]
  },
  {
   "cell_type": "code",
   "execution_count": null,
   "metadata": {},
   "outputs": [],
   "source": [
    "from sklearn.manifold import TSNE\n",
    "\n",
    "small_feats = TSNE(n_components=2, perplexity=50).fit_transform(feats_list)"
   ]
  },
  {
   "cell_type": "code",
   "execution_count": null,
   "metadata": {},
   "outputs": [],
   "source": [
    "fig, ax = plt.subplots(1, 1, figsize=(20, 20))\n",
    "\n",
    "class_names = ['car', 'deer', 'ship']\n",
    "\n",
    "for i in range(3):\n",
    "    sel_inds = np.argwhere(labels == i).flatten()\n",
    "    ax.scatter(small_feats[:, 0][sel_inds], small_feats[:, 1][sel_inds], label=class_names[i], s=100)\n",
    "    \n",
    "ax.legend(fontsize=36, ncol=1, loc=1)\n",
    "ax.set_xticks([])\n",
    "ax.set_yticks([])"
   ]
  }
 ],
 "metadata": {
  "instance_type": "ml.g4dn.2xlarge",
  "kernelspec": {
   "display_name": "Python 3",
   "language": "python",
   "name": "python3"
  },
  "language_info": {
   "codemirror_mode": {
    "name": "ipython",
    "version": 3
   },
   "file_extension": ".py",
   "mimetype": "text/x-python",
   "name": "python",
   "nbconvert_exporter": "python",
   "pygments_lexer": "ipython3",
   "version": "3.9.6"
  }
 },
 "nbformat": 4,
 "nbformat_minor": 4
}
