{
 "cells": [
  {
   "cell_type": "markdown",
   "id": "86f38673",
   "metadata": {},
   "source": [
    "# Scrape images with EasyICD\n",
    "\n",
    "## Required imports"
   ]
  },
  {
   "cell_type": "code",
   "execution_count": 3,
   "id": "4c235588",
   "metadata": {},
   "outputs": [],
   "source": [
    "from easy_icd.scraping.scrape_images import scrape_images"
   ]
  },
  {
   "cell_type": "markdown",
   "id": "093876ea",
   "metadata": {},
   "source": [
    "## Define search terms, class names, and image directory"
   ]
  },
  {
   "cell_type": "code",
   "execution_count": 5,
   "id": "3a2c7db5",
   "metadata": {},
   "outputs": [
    {
     "data": {
      "text/plain": [
       "{'shark': {'great white shark': {'successful': True,\n",
       "   'num_desired_images': 5,\n",
       "   'num_saved_images': 5,\n",
       "   'time_taken_in_seconds': 6.78118634223938},\n",
       "  'hammerhead shark': {'successful': True,\n",
       "   'num_desired_images': 5,\n",
       "   'num_saved_images': 5,\n",
       "   'time_taken_in_seconds': 3.6699790954589844},\n",
       "  'basking shark': {'successful': True,\n",
       "   'num_desired_images': 5,\n",
       "   'num_saved_images': 5,\n",
       "   'time_taken_in_seconds': 3.450639486312866},\n",
       "  'time_taken_in_seconds': 13.90180492401123,\n",
       "  'num_desired_images': 15,\n",
       "  'num_saved_images': 15,\n",
       "  'successful': True},\n",
       " 'dog': {'german shepherd': {'successful': True,\n",
       "   'num_desired_images': 3,\n",
       "   'num_saved_images': 3,\n",
       "   'time_taken_in_seconds': 3.808958053588867},\n",
       "  'afghan hound': {'successful': True,\n",
       "   'num_desired_images': 3,\n",
       "   'num_saved_images': 3,\n",
       "   'time_taken_in_seconds': 6.226581811904907},\n",
       "  'golden retriever': {'successful': True,\n",
       "   'num_desired_images': 6,\n",
       "   'num_saved_images': 6,\n",
       "   'time_taken_in_seconds': 3.841588258743286},\n",
       "  'labrador': {'successful': True,\n",
       "   'num_desired_images': 3,\n",
       "   'num_saved_images': 3,\n",
       "   'time_taken_in_seconds': 2.053687810897827},\n",
       "  'time_taken_in_seconds': 15.930815935134888,\n",
       "  'num_desired_images': 15,\n",
       "  'num_saved_images': 15,\n",
       "  'successful': True},\n",
       " 'horse': {'stallion': {'successful': True,\n",
       "   'num_desired_images': 10,\n",
       "   'num_saved_images': 10,\n",
       "   'time_taken_in_seconds': 6.930179119110107},\n",
       "  'white horse': {'successful': True,\n",
       "   'num_desired_images': 5,\n",
       "   'num_saved_images': 5,\n",
       "   'time_taken_in_seconds': 3.997227191925049},\n",
       "  'time_taken_in_seconds': 10.94303011894226,\n",
       "  'num_desired_images': 15,\n",
       "  'num_saved_images': 15,\n",
       "  'successful': True},\n",
       " 'deer': {'deer': {'successful': True,\n",
       "   'num_desired_images': 5,\n",
       "   'num_saved_images': 5,\n",
       "   'time_taken_in_seconds': 2.4162657260894775},\n",
       "  'canadian moose': {'successful': True,\n",
       "   'num_desired_images': 5,\n",
       "   'num_saved_images': 5,\n",
       "   'time_taken_in_seconds': 7.522447109222412},\n",
       "  'elk': {'successful': True,\n",
       "   'num_desired_images': 5,\n",
       "   'num_saved_images': 5,\n",
       "   'time_taken_in_seconds': 6.384803533554077},\n",
       "  'time_taken_in_seconds': 16.32452082633972,\n",
       "  'num_desired_images': 15,\n",
       "  'num_saved_images': 15,\n",
       "  'successful': True},\n",
       " 'time_taken_in_seconds': 57.10117197036743}"
      ]
     },
     "execution_count": 5,
     "metadata": {},
     "output_type": "execute_result"
    }
   ],
   "source": [
    "class_names = ['shark', 'dog', 'horse', 'deer']\n",
    "search_terms = [['great white shark', 'hammerhead shark', 'basking shark'],\n",
    "                ['german shepherd', 'afghan hound', 'golden retriever', 'labrador'],\n",
    "               ['stallion', 'white horse'],\n",
    "                ['deer', 'canadian moose', 'elk']]\n",
    "images_per_class = [[5, 5, 5], [3, 3, 6, 3], [10, 5], [5, 5, 5]]\n",
    "image_dir = 'scraping_example_images'\n",
    "\n",
    "scrape_images(class_names, image_dir, search_terms, images_per_class)"
   ]
  }
 ],
 "metadata": {
  "kernelspec": {
   "display_name": "Python 3",
   "language": "python",
   "name": "python3"
  },
  "language_info": {
   "codemirror_mode": {
    "name": "ipython",
    "version": 3
   },
   "file_extension": ".py",
   "mimetype": "text/x-python",
   "name": "python",
   "nbconvert_exporter": "python",
   "pygments_lexer": "ipython3",
   "version": "3.9.6"
  }
 },
 "nbformat": 4,
 "nbformat_minor": 5
}
