{
 "cells": [
  {
   "cell_type": "markdown",
   "id": "86f38673",
   "metadata": {},
   "source": [
    "# Identify outliers in scraped datasets using Easy-ICD\n",
    "\n",
    "In this notebook we show how to train an outlier detector to identify distracting images and noise in scraped image datasets.\n",
    "\n",
    "## Required imports"
   ]
  },
  {
   "cell_type": "code",
   "execution_count": 1,
   "id": "4c235588",
   "metadata": {},
   "outputs": [],
   "source": [
    "import torch\n",
    "import numpy as np\n",
    "import matplotlib.pyplot as plt\n",
    "\n",
    "from torch.utils.data import Dataset, DataLoader\n",
    "from torchvision.transforms import Normalize\n",
    "\n",
    "from sklearn.manifold import TSNE\n",
    "\n",
    "from easy_icd.utils.datasets import create_dataset\n",
    "from easy_icd.utils.augmentation import RandomImageAugmenter\n",
    "from easy_icd.training.train_models import train_model\n",
    "from easy_icd.utils.models import ResNet"
   ]
  },
  {
   "cell_type": "markdown",
   "id": "093876ea",
   "metadata": {},
   "source": [
    "## Create dataset\n",
    "\n",
    "First, we create train and test splits for a scraped dataset:"
   ]
  },
  {
   "cell_type": "code",
   "execution_count": 6,
   "id": "3a2c7db5",
   "metadata": {
    "scrolled": true
   },
   "outputs": [],
   "source": [
    "img_dir = 'marine_animals'\n",
    "class_names = ['hammerhead shark', 'orca whale', 'manta ray', 'jellyfish', 'axolotl']\n",
    "one_hot_labels = False\n",
    "scale_images = True\n",
    "train_test_split_ratio = 0.8\n",
    "\n",
    "train_ds, test_ds = create_dataset(img_dir, class_names, one_hot_labels, scale_images, train_test_split_ratio)\n",
    "train_dataloader = DataLoader(train_ds, batch_size=4, shuffle=True)\n",
    "test_dataloader = DataLoader(test_ds, batch_size=4, shuffle=True)"
   ]
  },
  {
   "cell_type": "markdown",
   "id": "ff7b5da4",
   "metadata": {},
   "source": [
    "## Create model\n",
    "\n",
    "Next, we create a machine learning model that we train on the scraped data. Easy-ICD supports creating ResNet models via one function call, although we could use other PyTorch models if we wanted to. Here, we create a small ResNet-8 that contains a convolutional stem, 3 conv / batch norm blocks, and a non-linear projection head. We set the size of the projection head using the `linear_sizes` argument to the constructor, and tell Easy-ICD that we want to train the model using an unsupervised method by setting `supervised = False`. This removes the final output layer of the model that would give us the logits for each class in the dataset."
   ]
  },
  {
   "cell_type": "code",
   "execution_count": 7,
   "id": "0caa510a",
   "metadata": {},
   "outputs": [],
   "source": [
    "num_layers = 3\n",
    "num_blocks = [1, 1, 1]\n",
    "in_channels = 3\n",
    "out_channels = [16, 32, 64]\n",
    "linear_sizes = [128, 32]\n",
    "supervised = False\n",
    "\n",
    "model = ResNet(num_layers, num_blocks, in_channels, out_channels, linear_sizes, supervised)"
   ]
  },
  {
   "cell_type": "code",
   "execution_count": 8,
   "id": "288ef7ae",
   "metadata": {
    "scrolled": true
   },
   "outputs": [
    {
     "data": {
      "text/plain": [
       "ResNet(\n",
       "  (stem): Sequential(\n",
       "    (0): Conv2d(3, 16, kernel_size=(3, 3), stride=(1, 1), padding=same, bias=False)\n",
       "    (1): BatchNorm2d(16, eps=1e-05, momentum=0.1, affine=True, track_running_stats=True)\n",
       "    (2): ReLU()\n",
       "  )\n",
       "  (layer1): Sequential(\n",
       "    (0): ResNetBasicBlock(\n",
       "      (layers): Sequential(\n",
       "        (0): Conv2d(16, 16, kernel_size=(3, 3), stride=(1, 1), padding=(1, 1), bias=False)\n",
       "        (1): BatchNorm2d(16, eps=1e-05, momentum=0.1, affine=True, track_running_stats=True)\n",
       "        (2): ReLU()\n",
       "        (3): Conv2d(16, 16, kernel_size=(3, 3), stride=(1, 1), padding=same, bias=False)\n",
       "        (4): BatchNorm2d(16, eps=1e-05, momentum=0.1, affine=True, track_running_stats=True)\n",
       "        (5): ReLU()\n",
       "      )\n",
       "      (shortcut): Sequential()\n",
       "    )\n",
       "  )\n",
       "  (layer2): Sequential(\n",
       "    (0): ResNetBasicBlock(\n",
       "      (layers): Sequential(\n",
       "        (0): Conv2d(16, 32, kernel_size=(3, 3), stride=(2, 2), padding=(1, 1), bias=False)\n",
       "        (1): BatchNorm2d(32, eps=1e-05, momentum=0.1, affine=True, track_running_stats=True)\n",
       "        (2): ReLU()\n",
       "        (3): Conv2d(32, 32, kernel_size=(3, 3), stride=(1, 1), padding=same, bias=False)\n",
       "        (4): BatchNorm2d(32, eps=1e-05, momentum=0.1, affine=True, track_running_stats=True)\n",
       "        (5): ReLU()\n",
       "      )\n",
       "      (shortcut): Sequential(\n",
       "        (0): Conv2d(16, 32, kernel_size=(1, 1), stride=(2, 2), bias=False)\n",
       "        (1): BatchNorm2d(32, eps=1e-05, momentum=0.1, affine=True, track_running_stats=True)\n",
       "      )\n",
       "    )\n",
       "  )\n",
       "  (layer3): Sequential(\n",
       "    (0): ResNetBasicBlock(\n",
       "      (layers): Sequential(\n",
       "        (0): Conv2d(32, 64, kernel_size=(3, 3), stride=(2, 2), padding=(1, 1), bias=False)\n",
       "        (1): BatchNorm2d(64, eps=1e-05, momentum=0.1, affine=True, track_running_stats=True)\n",
       "        (2): ReLU()\n",
       "        (3): Conv2d(64, 64, kernel_size=(3, 3), stride=(1, 1), padding=same, bias=False)\n",
       "        (4): BatchNorm2d(64, eps=1e-05, momentum=0.1, affine=True, track_running_stats=True)\n",
       "        (5): ReLU()\n",
       "      )\n",
       "      (shortcut): Sequential(\n",
       "        (0): Conv2d(32, 64, kernel_size=(1, 1), stride=(2, 2), bias=False)\n",
       "        (1): BatchNorm2d(64, eps=1e-05, momentum=0.1, affine=True, track_running_stats=True)\n",
       "      )\n",
       "    )\n",
       "  )\n",
       "  (layer4): Identity()\n",
       "  (avg_pool): AdaptiveAvgPool2d(output_size=(2, 1))\n",
       "  (linear_layers): Identity()\n",
       "  (projection_head): Sequential(\n",
       "    (0): Linear(in_features=128, out_features=128, bias=True)\n",
       "    (1): ReLU()\n",
       "    (2): Linear(in_features=128, out_features=32, bias=True)\n",
       "  )\n",
       ")"
      ]
     },
     "execution_count": 8,
     "metadata": {},
     "output_type": "execute_result"
    }
   ],
   "source": [
    "model"
   ]
  },
  {
   "cell_type": "markdown",
   "id": "e00bbd69",
   "metadata": {},
   "source": [
    "We can see how many parameters the model has in total:"
   ]
  },
  {
   "cell_type": "code",
   "execution_count": 9,
   "id": "4aa7714b",
   "metadata": {},
   "outputs": [
    {
     "name": "stdout",
     "output_type": "stream",
     "text": [
      "Total parameters in model: 98032\n"
     ]
    }
   ],
   "source": [
    "all_params = 0\n",
    "\n",
    "for module in model.modules():\n",
    "    if 'weight' in module.state_dict().keys():\n",
    "        all_params += np.prod(module.state_dict()['weight'].size())\n",
    "\n",
    "    if 'bias' in module.state_dict().keys():\n",
    "        all_params += np.prod(module.state_dict()['bias'].size())\n",
    "        \n",
    "print('Total parameters in model:', all_params)"
   ]
  },
  {
   "cell_type": "markdown",
   "id": "8ece11d5",
   "metadata": {},
   "source": [
    "## Train outlier detector\n",
    "\n",
    "Now that we have a training set, a test set, and a model, we can train the model on the scraped images. We use a modified version of the SimCLR loss to train the model, although we could use the regular cross-entropy loss, or even the original SimCLR loss instead. Easy-ICD makes training outlier detectors extremely easy, requiring just one function call.\n",
    "\n",
    "The `img_size` variable is set to the size of the images in the dataset we are training the model on. if you are using the model on images of a different size, change the variable to the correct value. We create a `RandomImageAugmenter` to make it easy to create augmented versions of images from the dataset, which we need to train the model using the SimCLR loss.\n",
    "\n",
    "Here we train the model for just 1 epoch, using the default optimizer (SGD with learning rate 0.1, and momentum 0.9), and use 2 different augmented views for every images in each minibatch we show the model."
   ]
  },
  {
   "cell_type": "code",
   "execution_count": 10,
   "id": "9dc7d81b",
   "metadata": {
    "scrolled": false
   },
   "outputs": [
    {
     "name": "stdout",
     "output_type": "stream",
     "text": [
      "Adjusting learning rate of group 0 to 1.0000e-01.\n",
      "Estimated statistics for channels:\n",
      "Means: tensor([0.3128, 0.3886, 0.5122])\n",
      "Std dev.: tensor([0.2856, 0.2370, 0.2553])\n",
      "Epoch 1\n",
      "Batch:    1 | Loss:   0.33999 | Test loss:   1.21515 | Acc:   0.00000 | Test acc:   0.00000\n",
      "Batch:   11 | Loss:   2.07042 | Test loss:   1.79957 | Acc:   0.00000 | Test acc:   0.00000\n",
      "Batch:   21 | Loss:   0.64486 | Test loss:   1.48953 | Acc:   0.00000 | Test acc:   0.00000\n",
      "Train Loss: 0.84136 | Test Loss: 1.50142 | Train Acc: 0.00000  | Test Acc: 0.00000\n",
      "Adjusting learning rate of group 0 to 1.0000e-03.\n"
     ]
    }
   ],
   "source": [
    "img_size = (512, 512)\n",
    "\n",
    "metrics_dir = 'marine_animals_model_training'\n",
    "augmenter = RandomImageAugmenter((512, 512), 0.2 * torch.ones(9))\n",
    "loss_type = 'simclr'\n",
    "num_epochs = 1\n",
    "optimizer = None\n",
    "num_augments = 2\n",
    "num_stat_counts = 5\n",
    "gpu = False\n",
    "\n",
    "train_model(model, train_dataloader, test_dataloader, metrics_dir, augmenter, loss_type,\n",
    "            num_epochs, optimizer, num_augments, num_stat_counts=num_stat_counts, gpu=gpu)"
   ]
  },
  {
   "cell_type": "markdown",
   "id": "13bc85aa",
   "metadata": {},
   "source": [
    "## View learned representations\n",
    "\n",
    "once we finish training the model, we can view the representations the model has learnt. We do this by first collecting ome feature vectors by passing different data points through the model, and then convert the high-dimensional representations learned by the model into 2-dimensional vectors using T-SNE. First, we create a model with the same architecture as the one we used to learn the scraped data:"
   ]
  },
  {
   "cell_type": "code",
   "execution_count": 2,
   "id": "3a2a962a",
   "metadata": {},
   "outputs": [],
   "source": [
    "num_layers = 3\n",
    "num_blocks = [1, 1, 1]\n",
    "in_channels = 3\n",
    "out_channels = [16, 32, 64]\n",
    "linear_sizes = [128, 32]\n",
    "supervised = False\n",
    "\n",
    "model = ResNet(num_layers, num_blocks, in_channels, out_channels, linear_sizes, supervised)"
   ]
  },
  {
   "cell_type": "markdown",
   "id": "c5147ccf",
   "metadata": {},
   "source": [
    "Then we load all of the images we scraped via on single dataloader (no train or test splits). We need to make sure that the arguments we pass in (except for the train / test split ratio) are the exact same ones we used to create the training and test splits for training the outlier detector."
   ]
  },
  {
   "cell_type": "code",
   "execution_count": 7,
   "id": "d0435972",
   "metadata": {},
   "outputs": [],
   "source": [
    "img_dir = 'marine_animals'\n",
    "class_names = ['hammerhead shark', 'orca whale', 'manta ray', 'jellyfish', 'axolotl']\n",
    "one_hot_labels = False\n",
    "scale_images = True\n",
    "\n",
    "ds = create_dataset(img_dir, class_names, one_hot_labels, scale_images)\n",
    "dataloader = DataLoader(ds, batch_size=4, shuffle=True)"
   ]
  },
  {
   "cell_type": "markdown",
   "id": "524c8201",
   "metadata": {},
   "source": [
    "Then we use `model.load_state_dict()` to load all the trained weights from the model we trained into this model:"
   ]
  },
  {
   "cell_type": "code",
   "execution_count": 8,
   "id": "b9457d39",
   "metadata": {},
   "outputs": [
    {
     "data": {
      "text/plain": [
       "<All keys matched successfully>"
      ]
     },
     "execution_count": 8,
     "metadata": {},
     "output_type": "execute_result"
    }
   ],
   "source": [
    "model.load_state_dict(torch.load('marine_animals_model_training/model_state_epoch_1.pt'))"
   ]
  },
  {
   "cell_type": "markdown",
   "id": "4a16da49",
   "metadata": {},
   "source": [
    "Now we pass a few minibatches through the model and collect the representations learned by the model:"
   ]
  },
  {
   "cell_type": "code",
   "execution_count": 10,
   "id": "f2517f13",
   "metadata": {},
   "outputs": [],
   "source": [
    "num_minibatches = 10\n",
    "\n",
    "model.eval()\n",
    "\n",
    "normalizer = Normalize([0.3128, 0.3886, 0.5122], [0.2856, 0.2370, 0.2553])\n",
    "\n",
    "feats_list = []\n",
    "labels_list = []\n",
    "\n",
    "for i in range(num_minibatches):\n",
    "    images, labels = next(iter(dataloader))\n",
    "\n",
    "    images = normalizer(images)\n",
    "    labels_list.append(labels.detach().numpy())\n",
    "    \n",
    "    features = model(images).cpu().detach()\n",
    "    features = torch.div(features, torch.linalg.norm(features, dim=1, keepdim=True))\n",
    "    feats_list.append(features)\n",
    "    \n",
    "feats_list = np.concatenate(feats_list, 0)\n",
    "labels = np.concatenate(labels_list, 0)"
   ]
  },
  {
   "cell_type": "markdown",
   "id": "6abe6f79",
   "metadata": {},
   "source": [
    "Next, we perform dimensionality reduction using T-SNE:"
   ]
  },
  {
   "cell_type": "code",
   "execution_count": 11,
   "id": "372e4c1e",
   "metadata": {},
   "outputs": [],
   "source": [
    "tsne_feats = TSNE(n_components=2, perplexity=150).fit_transform(feats_list)"
   ]
  },
  {
   "cell_type": "markdown",
   "id": "7c96c200",
   "metadata": {},
   "source": [
    "Finally, we visualize the features. Since we only trained the model for one epoch, the features will look like they were randomly initialized:"
   ]
  },
  {
   "cell_type": "code",
   "execution_count": 17,
   "id": "d0050fb6",
   "metadata": {},
   "outputs": [
    {
     "data": {
      "text/plain": [
       "[]"
      ]
     },
     "execution_count": 17,
     "metadata": {},
     "output_type": "execute_result"
    },
    {
     "data": {
      "image/png": "[encoded data removed]",
      "text/plain": [
       "<Figure size 1440x1440 with 1 Axes>"
      ]
     },
     "metadata": {},
     "output_type": "display_data"
    }
   ],
   "source": [
    "fig, ax = plt.subplots(1, 1, figsize=(20, 20))\n",
    "\n",
    "for i in range(len(class_names)):\n",
    "    sel_inds = np.argwhere(labels == i).flatten()\n",
    "    ax.scatter(tsne_feats[:, 0][sel_inds], tsne_feats[:, 1][sel_inds], label=class_names[i], s=100)\n",
    "    \n",
    "ax.legend(fontsize=36, ncol=2, loc=2)\n",
    "ax.set_xticks([])\n",
    "ax.set_yticks([])"
   ]
  }
 ],
 "metadata": {
  "kernelspec": {
   "display_name": "Python 3",
   "language": "python",
   "name": "python3"
  },
  "language_info": {
   "codemirror_mode": {
    "name": "ipython",
    "version": 3
   },
   "file_extension": ".py",
   "mimetype": "text/x-python",
   "name": "python",
   "nbconvert_exporter": "python",
   "pygments_lexer": "ipython3",
   "version": "3.9.6"
  }
 },
 "nbformat": 4,
 "nbformat_minor": 5
}
